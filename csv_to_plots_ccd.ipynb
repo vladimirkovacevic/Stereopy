{
 "cells": [
  {
   "cell_type": "code",
   "execution_count": null,
   "metadata": {},
   "outputs": [],
   "source": [
    "import os\n",
    "import sys\n",
    "import pandas as pd\n",
    "\n",
    "import matplotlib.ticker as mtick\n",
    "from matplotlib import rcParams\n",
    "from matplotlib import pyplot as plt\n",
    "from itertools import cycle\n",
    "\n"
   ]
  },
  {
   "cell_type": "code",
   "execution_count": null,
   "metadata": {},
   "outputs": [],
   "source": [
    "file_list = [\"C:/Users/User/Documents/BGI/newvolume/BGI/results/reference for stereopy/adult_brain/agglomerative n16 result/SS200000141TL_B5/SS200000141TL_B5.csv\",\"C:/Users/User/Documents/BGI/newvolume/BGI/results/reference for stereopy/adult_brain/agglomerative n16 result/SS200000141TL_A4/SS200000141TL_A4.csv\",\"C:/Users/User/Documents/BGI/newvolume/BGI/results/reference for stereopy/adult_brain/agglomerative n16 result/SS200000128TR_E2/SS200000128TR_E2.csv\"]\n",
    "\n",
    "df_list = []\n",
    "\n",
    "for fpath in file_list:\n",
    "    df_list.append(pd.read_csv(fpath))\n",
    "    "
   ]
  },
  {
   "cell_type": "code",
   "execution_count": null,
   "metadata": {},
   "outputs": [],
   "source": [
    "os.path.basename(file_list[0]).split('.')"
   ]
  },
  {
   "cell_type": "code",
   "execution_count": null,
   "metadata": {},
   "outputs": [],
   "source": [
    "df_list[0]"
   ]
  },
  {
   "cell_type": "code",
   "execution_count": null,
   "metadata": {},
   "outputs": [],
   "source": [
    "        fig, ax = plt.subplots(figsize=(20,15))\n",
    "        fig.subplots_adjust(wspace=0)\n",
    "        rcParams['figure.facecolor'] = 'white'\n",
    "        rcParams['axes.facecolor'] = 'white'\n",
    "        rcParams[\"figure.dpi\"] = 200\n",
    "\n",
    "        greys=cycle(['#1560BD', '#C5E17A', '#8D90A1'])\n",
    "        names=['B5','A4','E2']\n",
    "        colors = [next(greys) for _ in range(len(df_list))]\n",
    "        cell_percentage_dfs = []\n",
    "        plot_columns = []\n",
    "        for id, df in enumerate(df_list):\n",
    "\n",
    "            cell_percentage_dfs.append(df.loc[:, 'tissue_sliding_window'].value_counts(normalize=True).mul(100).rename(names[id]))\n",
    "            plot_columns.append(names[id])\n",
    "            if id==0:\n",
    "                # cell_percentage_dfs[0] = cell_percentage_dfs[0].append(pd.Series([0.0], index=['unknown']))\n",
    "                cell_percentage_dfs[0].index = cell_percentage_dfs[0].index.values.astype('str')\n",
    "\n",
    "        cummulative_df = pd.concat(cell_percentage_dfs, axis=1).fillna(0)\n",
    "        cummulative_df = cummulative_df.loc[sorted(cummulative_df.index.values, key=lambda x: float(x) if x != \"unknown\" else float('inf'))]\n",
    "        cummulative_df.plot(y=plot_columns, kind=\"bar\", rot=0, ax=ax, xlabel=\"\", color=colors)\n",
    "\n",
    "        ax.yaxis.set_major_formatter(mtick.PercentFormatter(decimals=0))\n",
    "        ax.grid(False)\n",
    "        ax.set_facecolor('white')\n",
    "        plt.legend(loc='upper left', bbox_to_anchor=(1.04, 1))\n",
    "\n",
    "        plt.savefig(os.path.join(os.path.dirname(file_list[0]), f'cluster_abundance_all_slices.png'), bbox_inches='tight')\n",
    "        plt.show()\n",
    "        plt.close()"
   ]
  },
  {
   "cell_type": "code",
   "execution_count": null,
   "metadata": {},
   "outputs": [],
   "source": []
  },
  {
   "cell_type": "code",
   "execution_count": null,
   "metadata": {},
   "outputs": [],
   "source": []
  },
  {
   "cell_type": "code",
   "execution_count": null,
   "metadata": {},
   "outputs": [],
   "source": [
    "import sys\n",
    "sys.path.append(\"stereo/algorithm/\")\n",
    "\n",
    "from stereo.core.stereo_exp_data import AnnBasedStereoExpData\n",
    "from stereo.algorithm.community_detection import CommunityDetection\n",
    "\n",
    "import pandas as pd\n",
    "import os"
   ]
  },
  {
   "cell_type": "markdown",
   "metadata": {},
   "source": [
    "Read csv data from one or several samples as anndata objects and place them in a list"
   ]
  },
  {
   "cell_type": "code",
   "execution_count": null,
   "metadata": {},
   "outputs": [],
   "source": [
    "file_list = [\"C:/Users/User/Documents/BGI/newvolume/BGI/results/reference for stereopy/adult_brain/agglomerative n16 result/SS200000141TL_B5/SS200000141TL_B5.h5ad\",\"C:/Users/User/Documents/BGI/newvolume/BGI/results/reference for stereopy/adult_brain/agglomerative n16 result/SS200000141TL_A4/SS200000141TL_A4.h5ad\",\"C:/Users/User/Documents/BGI/newvolume/BGI/results/reference for stereopy/adult_brain/agglomerative n16 result/SS200000128TR_E2/SS200000128TR_E2.h5ad\"]\n",
    "adata_list = []\n",
    "for fpath in file_list: \n",
    "    adata_list.append(AnnBasedStereoExpData(fpath))"
   ]
  },
  {
   "cell_type": "markdown",
   "metadata": {},
   "source": [
    "read already defined CCD annotation and add to adata"
   ]
  },
  {
   "cell_type": "code",
   "execution_count": null,
   "metadata": {},
   "outputs": [],
   "source": [
    "df_list = []\n",
    "for fpath in file_list:\n",
    "    cur_df = pd.read_csv(os.path.join(os.path.dirname(fpath), os.path.basename(fpath).split('.')[0] + '.csv'))\n",
    "    cur_df['tissue_sliding_window'] = cur_df['tissue_sliding_window'].astype('str')\n",
    "    df_list.append(cur_df)"
   ]
  },
  {
   "cell_type": "code",
   "execution_count": null,
   "metadata": {},
   "outputs": [],
   "source": [
    "for adata, labels in zip(adata_list, df_list):\n",
    "    adata._ann_data.obs['tissue_sliding_window'] = 'unknown'\n",
    "    adata._ann_data.obs.loc[labels.iloc[:,0].values, 'tissue_sliding_window'] = labels.loc[:, 'tissue_sliding_window'].values"
   ]
  },
  {
   "cell_type": "code",
   "execution_count": null,
   "metadata": {},
   "outputs": [],
   "source": [
    "cd = CommunityDetection(slices=adata_list, annotation='celltype_pred', win_sizes='200', sliding_steps='50', cluster_algo='agglomerative', n_clusters=16, plotting=2, hide_plots=True)\n",
    "cd.run_plots()"
   ]
  }
 ],
 "metadata": {
  "kernelspec": {
   "display_name": "stereopy_env",
   "language": "python",
   "name": "python3"
  },
  "language_info": {
   "codemirror_mode": {
    "name": "ipython",
    "version": 3
   },
   "file_extension": ".py",
   "mimetype": "text/x-python",
   "name": "python",
   "nbconvert_exporter": "python",
   "pygments_lexer": "ipython3",
   "version": "3.8.17"
  },
  "orig_nbformat": 4
 },
 "nbformat": 4,
 "nbformat_minor": 2
}
